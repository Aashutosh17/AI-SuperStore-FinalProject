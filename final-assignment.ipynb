{
 "cells": [
  {
   "cell_type": "code",
   "execution_count": null,
   "id": "e71f4831",
   "metadata": {},
   "outputs": [],
   "source": [
    "import pandas as pd\n",
    "import numpy as np\n",
    "import matplotlib.pyplot as plt\n",
    "import seaborn as sns\n",
    "\n",
    "\n",
    "import warnings\n",
    "warnings.filterwarnings(\"ignore\")\n"
   ]
  },
  {
   "cell_type": "markdown",
   "id": "8880a06b",
   "metadata": {},
   "source": [
    "## importing data sets "
   ]
  },
  {
   "cell_type": "code",
   "execution_count": null,
   "id": "320644f0",
   "metadata": {},
   "outputs": [],
   "source": [
    "df =  pd.read_csv(\"superstore_data.csv\")"
   ]
  },
  {
   "cell_type": "code",
   "execution_count": null,
   "id": "38a1be2c",
   "metadata": {},
   "outputs": [],
   "source": [
    "df"
   ]
  },
  {
   "cell_type": "code",
   "execution_count": null,
   "id": "f832fa44",
   "metadata": {},
   "outputs": [],
   "source": [
    "df.shape\n"
   ]
  },
  {
   "cell_type": "code",
   "execution_count": null,
   "id": "a1798e82",
   "metadata": {},
   "outputs": [],
   "source": [
    "df.info()"
   ]
  },
  {
   "cell_type": "markdown",
   "id": "45add1af",
   "metadata": {},
   "source": [
    "## calcuating summary stats"
   ]
  },
  {
   "cell_type": "code",
   "execution_count": null,
   "id": "ef32752d",
   "metadata": {},
   "outputs": [],
   "source": [
    "df.describe(include = \"all\")"
   ]
  },
  {
   "cell_type": "markdown",
   "id": "f737b4bc",
   "metadata": {},
   "source": [
    "## checking for duplicate values "
   ]
  },
  {
   "cell_type": "code",
   "execution_count": null,
   "id": "88db6515",
   "metadata": {},
   "outputs": [],
   "source": [
    "df.duplicated().sum()"
   ]
  },
  {
   "cell_type": "markdown",
   "id": "d22632b8",
   "metadata": {},
   "source": [
    "## Feature Engineering"
   ]
  },
  {
   "cell_type": "code",
   "execution_count": null,
   "id": "91e5c41c",
   "metadata": {},
   "outputs": [],
   "source": [
    "\n",
    "data = df.copy()\n",
    "\n",
    "\n",
    "# Dropping column - Id\n",
    "data.drop(columns=[\"Id\"], inplace=True)\n",
    "\n",
    "#converting to date time object\n",
    "data.Dt_Customer = data.Dt_Customer.apply(lambda x : pd.to_datetime(str(x)))\n",
    "data.Dt_Customer.describe()\n",
    "data[\"Age\"] = 2021 - pd.to_datetime(data[\"Year_Birth\"], format=\"%Y\").apply(lambda x: x.year)\n",
    "\n",
    "data[\"Age\"].sort_values()\n",
    "\n",
    "# few observations with ages greater than 100\n",
    "data[data[\"Age\"] > 100]\n"
   ]
  },
  {
   "cell_type": "code",
   "execution_count": null,
   "id": "55dd67dc",
   "metadata": {},
   "outputs": [],
   "source": [
    "data.drop(data[data[\"Age\"] > 100].index, inplace=True)"
   ]
  },
  {
   "cell_type": "code",
   "execution_count": null,
   "id": "4d7b6650",
   "metadata": {},
   "outputs": [],
   "source": [
    "# Extracting registration year from the date\n",
    "data[\"Reg_year\"] = data[\"Dt_Customer\"].apply(lambda x: x.year)\n",
    "\n",
    "# Extracting registration quarter from the date\n",
    "data[\"Reg_quarter\"] = data[\"Dt_Customer\"].apply(lambda x: x.quarter)\n",
    "\n",
    "# Extracting registration month from the date\n",
    "data[\"Reg_month\"] = data[\"Dt_Customer\"].apply(lambda x: x.month)\n",
    "\n",
    "# Extracting registration week from the date\n",
    "data[\"Reg_week\"] = data[\"Dt_Customer\"].apply(lambda x: x.day // 7)\n",
    "\n",
    "data.head()"
   ]
  },
  {
   "cell_type": "code",
   "execution_count": null,
   "id": "a4bc8851",
   "metadata": {},
   "outputs": [],
   "source": [
    "cat_col = [\n",
    "    \"Education\",\n",
    "    \"Marital_Status\",\n",
    "    \"Kidhome\",\n",
    "    \"Teenhome\",\n",
    "    \"Complain\",\n",
    "    \"Response\",\n",
    "    \"Reg_year\",\n",
    "    \"Reg_quarter\",\n",
    "    \"Reg_month\",\n",
    "    \"Reg_week\",\n",
    "]\n",
    "\n",
    "# Printing number of count of each unique value in each column\n",
    "for column in cat_col:\n",
    "    print(data[column].value_counts())\n",
    "    print(\"-____________________________________________---\")"
   ]
  },
  {
   "cell_type": "code",
   "execution_count": null,
   "id": "9addeb1e",
   "metadata": {},
   "outputs": [],
   "source": [
    "#     In education, 2n cycle and Master means the same thing. We can combine these two categories.\n",
    "#     There are many categories in marital status. We can combine the categories 'Alone', 'Absurd' and 'YOLO' with 'Single' and 'Together' categories with 'Married'.\n",
    "#     There are only 20 customers who complained in the last two years.\n",
    "#     In 'Response' we have 1903 observations for the 0 class but only 334 observations for class 1.\n",
    "#     There are only three years in the customer registration data."
   ]
  },
  {
   "cell_type": "code",
   "execution_count": null,
   "id": "753fe9fc",
   "metadata": {},
   "outputs": [],
   "source": [
    "# Replacing 2n Cycle with Master\n",
    "data[\"Education\"] = data[\"Education\"].replace(\"2n Cycle\", \"Master\")"
   ]
  },
  {
   "cell_type": "code",
   "execution_count": null,
   "id": "3977662b",
   "metadata": {},
   "outputs": [],
   "source": [
    "# Replacing YOLO, Alone, Absurd with single and Together with Married\n",
    "data[\"Marital_Status\"] = data[\"Marital_Status\"].replace([\"YOLO\", \"Alone\", \"Absurd\"], \"Single\")\n",
    "data[\"Marital_Status\"] = data[\"Marital_Status\"].replace([\"Together\"], \"Married\")"
   ]
  },
  {
   "cell_type": "code",
   "execution_count": null,
   "id": "42b3032f",
   "metadata": {},
   "outputs": [],
   "source": [
    "data[\"Total_Amount_Spent\"] = data[\n",
    "    [\n",
    "        \"MntWines\"      ,\n",
    "        \"MntFruits\",\n",
    "        \"MntMeatProducts\",\n",
    "        \"MntFishProducts\",\n",
    "        \"MntSweetProducts\",\n",
    "        \"MntGoldProds\",\n",
    "    ]\n",
    "].sum(axis=1)\n"
   ]
  },
  {
   "cell_type": "code",
   "execution_count": null,
   "id": "5aa6165c",
   "metadata": {},
   "outputs": [],
   "source": [
    "pd.pivot_table(\n",
    "    data=data,\n",
    "    index=[\"Reg_year\", \"Reg_month\"],\n",
    "    values=\"Total_Amount_Spent\",\n",
    "    aggfunc=np.sum,\n",
    ").plot(kind=\"line\", marker=\"o\", linewidth=2, figsize=(12, 5))"
   ]
  },
  {
   "cell_type": "code",
   "execution_count": null,
   "id": "9d558737",
   "metadata": {},
   "outputs": [],
   "source": [
    "plt.figure(figsize=(12, 5))\n",
    "sns.regplot(y=data.Total_Amount_Spent, x=data.Income)"
   ]
  },
  {
   "cell_type": "code",
   "execution_count": null,
   "id": "38f38bd6",
   "metadata": {},
   "outputs": [],
   "source": [
    "# function to plot a boxplot and a histogram along the same scale.\n",
    "def histogram_boxplot(data, feature, figsize=(12, 7), kde=False, bins=None):\n",
    "    \"\"\"\n",
    "    Boxplot and histogram combined\n",
    "\n",
    "    data: dataframe\n",
    "    feature: dataframe column\n",
    "    figsize: size of figure (default (12,7))\n",
    "    kde: whether to the show density curve (default False)\n",
    "    bins: number of bins for histogram (default None)\n",
    "    \"\"\"\n",
    "    f2, (ax_box2, ax_hist2) = plt.subplots(\n",
    "        nrows=2,  # Number of rows of the subplot grid= 2\n",
    "        sharex=True,  # x-axis will be shared among all subplots\n",
    "        gridspec_kw={\"height_ratios\": (0.25, 0.75)},\n",
    "        figsize=figsize,\n",
    "    )  # creating the 2 subplots\n",
    "    sns.boxplot(\n",
    "        data=data, x=feature, ax=ax_box2, showmeans=True, color=\"violet\"\n",
    "    )  # boxplot will be created and a triangle will indicate the mean value of the column\n",
    "    sns.histplot(\n",
    "        data=data, x=feature, kde=kde, ax=ax_hist2, bins=bins\n",
    "    ) if bins else sns.histplot(\n",
    "        data=data, x=feature, kde=kde, ax=ax_hist2\n",
    "    )  # For histogram\n",
    "    ax_hist2.axvline(\n",
    "        data[feature].mean(), color=\"green\", linestyle=\"--\",\n",
    "        \n",
    "    )  # Add mean to the histogram\n",
    "    ax_hist2.axvline(\n",
    "        data[feature].median(), color=\"black\", linestyle=\"-\"\n",
    "        #add median to the histogram\n",
    "    ) "
   ]
  },
  {
   "cell_type": "markdown",
   "id": "ec7b3f28",
   "metadata": {},
   "source": [
    "## Exploratory data Analysis"
   ]
  },
  {
   "cell_type": "markdown",
   "id": "d72aa238",
   "metadata": {},
   "source": [
    "## univariate analysis"
   ]
  },
  {
   "cell_type": "code",
   "execution_count": null,
   "id": "a538a9c4",
   "metadata": {},
   "outputs": [],
   "source": [
    "#income observation\n",
    "histogram_boxplot(data, \"Income\")"
   ]
  },
  {
   "cell_type": "code",
   "execution_count": null,
   "id": "48088929",
   "metadata": {},
   "outputs": [],
   "source": [
    "#income observation\n",
    "\n",
    "\n",
    "# We can see there are some outliers in the income variable.\n",
    "#   we can remove the data point on the extreme right end of the boxplot \n",
    "\n"
   ]
  },
  {
   "cell_type": "code",
   "execution_count": null,
   "id": "e225a6e4",
   "metadata": {},
   "outputs": [],
   "source": [
    "# Dropping observaion with income greater than 20000. Since there is just 1 such observation\n",
    "data.drop(index=data[data.Income > 200000].index, inplace=True)"
   ]
  },
  {
   "cell_type": "code",
   "execution_count": null,
   "id": "379445c5",
   "metadata": {},
   "outputs": [],
   "source": [
    "#meat products observation\n",
    "histogram_boxplot(data, \"MntMeatProducts\")"
   ]
  },
  {
   "cell_type": "code",
   "execution_count": null,
   "id": "dc86133f",
   "metadata": {},
   "outputs": [],
   "source": [
    "# meat products observation\n",
    "\n",
    "\n",
    "#     The distribution for the amount spent on meat products is highly skewed to the right.\n",
    "#     We can see that there are some extreme observations in the variable that can be \n",
    "#     considered as outliers as they very far from the rest of the values.\n",
    "#     We can cap the value of the variable to the next highest value.\n",
    "\n"
   ]
  },
  {
   "cell_type": "code",
   "execution_count": null,
   "id": "c342e979",
   "metadata": {},
   "outputs": [],
   "source": [
    "\n",
    "\n",
    "# Checking 10 largest values of amount spend on meat products\n",
    "data.MntMeatProducts.nlargest(10)\n"
   ]
  },
  {
   "cell_type": "code",
   "execution_count": null,
   "id": "c03d52e5",
   "metadata": {},
   "outputs": [],
   "source": [
    "data[data[\"MntMeatProducts\"] > 1580]"
   ]
  },
  {
   "cell_type": "code",
   "execution_count": null,
   "id": "9df32e2f",
   "metadata": {},
   "outputs": [],
   "source": [
    "# what is clip?\n",
    "# Trim values at input threshold(s). Assigns values outside boundary to boundary values.\n",
    "# Thresholds can be singular values or array like, and in the latter case the clipping is performed element-wise \n",
    "# in the specified axis.\n",
    "# Capping values for amount spent on meat products at next highest value i.e. 984\n",
    "data[\"MntMeatProducts\"].clip(upper=984, inplace=True)\n",
    "\n"
   ]
  },
  {
   "cell_type": "code",
   "execution_count": null,
   "id": "e46a150b",
   "metadata": {},
   "outputs": [],
   "source": [
    "#  MntSweetProducts observation\n",
    "histogram_boxplot(data, \"MntSweetProducts\")"
   ]
  },
  {
   "cell_type": "code",
   "execution_count": null,
   "id": "23634b59",
   "metadata": {},
   "outputs": [],
   "source": [
    "\n",
    "\n",
    "#     The distribution for the amount spent on sweet products is right-skewed\n",
    "#     There is one observation to the right extreme which can be considered as an outlier.\n",
    "\n",
    "\n"
   ]
  },
  {
   "cell_type": "code",
   "execution_count": null,
   "id": "aad11740",
   "metadata": {},
   "outputs": [],
   "source": [
    "\n",
    "\n",
    "data[data[\"MntSweetProducts\"] > 200]\n",
    "\n"
   ]
  },
  {
   "cell_type": "code",
   "execution_count": null,
   "id": "0c339614",
   "metadata": {},
   "outputs": [],
   "source": [
    "# Capping values for amount spent on sweet products at 198\n",
    "data[\"MntSweetProducts\"].clip(upper=198, inplace=True)"
   ]
  },
  {
   "cell_type": "code",
   "execution_count": null,
   "id": "f9981d3c",
   "metadata": {},
   "outputs": [],
   "source": [
    "# MntGoldProds observation\n",
    "histogram_boxplot(data, \"MntGoldProds\")"
   ]
  },
  {
   "cell_type": "code",
   "execution_count": null,
   "id": "0b199454",
   "metadata": {},
   "outputs": [],
   "source": [
    "#     The distribution for the amount spent on gold products is right-skewed\n",
    "#     There are some outliers in the amount spent on gold products. We will not remove all such data points as they represent real market trends but we can cap some of the extreme values.\n",
    "\n",
    "data[data[\"MntGoldProds\"] > 250]"
   ]
  },
  {
   "cell_type": "code",
   "execution_count": null,
   "id": "f9674b0a",
   "metadata": {},
   "outputs": [],
   "source": [
    "data[\"MntGoldProds\"].clip(upper=250, inplace=True)\n",
    "\n"
   ]
  },
  {
   "cell_type": "code",
   "execution_count": null,
   "id": "75e5b6b4",
   "metadata": {},
   "outputs": [],
   "source": [
    " ## MntWines observation\n",
    "histogram_boxplot(data, \"MntWines\")"
   ]
  },
  {
   "cell_type": "code",
   "execution_count": null,
   "id": "87362fd0",
   "metadata": {},
   "outputs": [],
   "source": [
    "\n",
    "#     The distribution for the amount spent on wines is highly skewed to the right\n",
    "#     As the median of the distribution is less than 200, more than 50% of customers have spent less than 200 on wines.\n",
    "\n"
   ]
  },
  {
   "cell_type": "code",
   "execution_count": null,
   "id": "050e9acc",
   "metadata": {},
   "outputs": [],
   "source": [
    "# NumWebPurchases observation\n",
    "histogram_boxplot(data, \"NumWebPurchases\")"
   ]
  },
  {
   "cell_type": "code",
   "execution_count": null,
   "id": "25858ed7",
   "metadata": {},
   "outputs": [],
   "source": [
    "\n",
    "\n",
    "#     The median of the distribution is 4 i.e. 50% of customers have 4 or less than 4 web purchases.\n",
    "#     We can see that there are some extreme observations in the variable. We can cap these values to the next highest number of purchases.\n",
    "\n",
    "\n",
    "data[data\n",
    "     [\"NumWebPurchases\"] > 15]\n",
    "\n",
    "\n"
   ]
  },
  {
   "cell_type": "code",
   "execution_count": null,
   "id": "6a71e9d6",
   "metadata": {},
   "outputs": [],
   "source": [
    "data[\"NumWebPurchases\"].clip(upper=11, inplace=True)"
   ]
  },
  {
   "cell_type": "code",
   "execution_count": null,
   "id": "90082192",
   "metadata": {},
   "outputs": [],
   "source": [
    "#  NumWebVisitsMonth observation\n",
    "histogram_boxplot(data, \"NumWebVisitsMonth\")"
   ]
  },
  {
   "cell_type": "code",
   "execution_count": null,
   "id": "70e556ea",
   "metadata": {},
   "outputs": [],
   "source": [
    "# The distribution for the number of visits in a month is skewed and has some outliers at the right end.\n",
    "data[data[\"NumWebVisitsMonth\"] > 10]"
   ]
  },
  {
   "cell_type": "code",
   "execution_count": null,
   "id": "5ef5e037",
   "metadata": {},
   "outputs": [],
   "source": [
    "# NumCatalogPurchases observation\n",
    "histogram_boxplot(data, \"NumCatalogPurchases\")"
   ]
  },
  {
   "cell_type": "code",
   "execution_count": null,
   "id": "a22a7fdd",
   "metadata": {},
   "outputs": [],
   "source": [
    "#     The most number of observations are for 0 catalog purchases.\n",
    "#     The median of the distribution is 2 i.e. 50% of customers have 2 or less than 2 catalog purchases.\n",
    "#     We can see that there is two extreme observation in the variable. We can cap these values to the next highest number of purchases.\n",
    "data[data[\"NumCatalogPurchases\"] > 15]"
   ]
  },
  {
   "cell_type": "code",
   "execution_count": null,
   "id": "f6ae5c41",
   "metadata": {},
   "outputs": [],
   "source": [
    "# Capping values for number of catalog purchases at 11\n",
    "data[\"NumCatalogPurchases\"].clip(upper=11, inplace=True)\n"
   ]
  },
  {
   "cell_type": "code",
   "execution_count": null,
   "id": "ef048068",
   "metadata": {},
   "outputs": [],
   "source": [
    "# function to create labeled barplots\n",
    "def labeled_barplot(data, feature, perc=False, n=None):\n",
    "    \"\"\"\n",
    "    Barplot with percentage at the top\n",
    "\n",
    "    data: dataframe\n",
    "    feature: dataframe column\n",
    "    perc: whether to display percentages instead of count (default is False)\n",
    "    n: displays the top n category levels (default is None, i.e., display all levels)\n",
    "    \"\"\"\n",
    "\n",
    "    total = len(data[feature])  # length of the column\n",
    "    count = data[feature].nunique()\n",
    "    if n is None:\n",
    "        plt.figure(figsize=(count + 2, 6))\n",
    "    else:\n",
    "        plt.figure(figsize=(n + 2, 6))\n",
    "\n",
    "    plt.xticks(rotation=90, fontsize=15)\n",
    "    ax = sns.countplot(\n",
    "        data=data,\n",
    "        x=feature,\n",
    "        palette=\"Paired\",\n",
    "        order=data[feature].value_counts().index[:n],\n",
    "    )\n",
    "\n",
    "    for p in ax.patches:\n",
    "        if perc == True:\n",
    "            label = \"{:.1f}%\".format(\n",
    "                100 * p.get_height() / total\n",
    "            )  # percentage of each class of the category\n",
    "        else:\n",
    "            label = p.get_height()  # count of each level of the category\n",
    "\n",
    "        x = p.get_x() + p.get_width() / 2  # width of the plot\n",
    "        y = p.get_height()  # height of the plot\n",
    "\n",
    "        ax.annotate(\n",
    "            label,\n",
    "            (x, y),\n",
    "            ha=\"center\",\n",
    "            va=\"center\",\n",
    "            size=12,\n",
    "            xytext=(0, 5),\n",
    "            textcoords=\"offset points\",\n",
    "        )  # annotate the percentage\n",
    "\n",
    "    plt.show()  # "
   ]
  },
  {
   "cell_type": "code",
   "execution_count": null,
   "id": "3a84c021",
   "metadata": {},
   "outputs": [],
   "source": [
    "# bar chart for complains\n",
    "labeled_barplot(data, \"Complain\", perc=True)"
   ]
  },
  {
   "cell_type": "code",
   "execution_count": null,
   "id": "c093c8b3",
   "metadata": {},
   "outputs": [],
   "source": [
    "#  99% of customers had no complaint in the last 2 years. \n",
    "# This might be because the company provides good services or might be due to the lack of feedback options for customers."
   ]
  },
  {
   "cell_type": "code",
   "execution_count": null,
   "id": "61d21d42",
   "metadata": {},
   "outputs": [],
   "source": [
    "# barchart having teenagers at customer home\n",
    "labeled_barplot(data, \"Teenhome\", perc=True)"
   ]
  },
  {
   "cell_type": "code",
   "execution_count": null,
   "id": "ba40a68e",
   "metadata": {},
   "outputs": [],
   "source": [
    "#Majority of the customers i.e. ~52% customers have no teen at home\n",
    "#There are very few customers, only ~2%, with a number of teens greater than 1"
   ]
  },
  {
   "cell_type": "code",
   "execution_count": null,
   "id": "f02c0642",
   "metadata": {},
   "outputs": [],
   "source": [
    "# observation of pervious responsones\n",
    "labeled_barplot(data, \"Response\", perc=True)"
   ]
  },
  {
   "cell_type": "code",
   "execution_count": null,
   "id": "62a05f93",
   "metadata": {},
   "outputs": [],
   "source": [
    "# 85% customer's response was NO in the last campaign.\n",
    "# This shows that the distribution of classes in the target variable is imbalanced. We have only ~15% observations where response is YES.\n"
   ]
  },
  {
   "cell_type": "code",
   "execution_count": null,
   "id": "3a02d384",
   "metadata": {},
   "outputs": [],
   "source": []
  },
  {
   "cell_type": "markdown",
   "id": "12231f67",
   "metadata": {},
   "source": [
    "\n",
    "## Bivariate Analysis\n"
   ]
  },
  {
   "cell_type": "code",
   "execution_count": null,
   "id": "bec5182d",
   "metadata": {},
   "outputs": [],
   "source": [
    "cols = data[\n",
    "    [\n",
    "        \"MntWines\",\n",
    "        \"MntGoldProds\",\n",
    "        \"MntMeatProducts\",\n",
    "        \"MntFruits\",\n",
    "        \"MntFishProducts\",\n",
    "        \"MntSweetProducts\",\n",
    "    ]\n",
    "].columns.tolist()\n",
    "plt.figure(figsize=(10, 10))\n",
    "\n",
    "for i, variable in enumerate(cols):\n",
    "    plt.subplot(3, 2, i + 1)\n",
    "    sns.boxplot(df[\"Response\"], df[variable])\n",
    "    plt.tight_layout()\n",
    "    plt.title(variable)\n",
    "plt.show()"
   ]
  },
  {
   "cell_type": "code",
   "execution_count": null,
   "id": "d366ccdb",
   "metadata": {},
   "outputs": [],
   "source": [
    "#Each plot shows that customer spending more on any product is more likely to take the offer. "
   ]
  },
  {
   "cell_type": "markdown",
   "id": "6d464f74",
   "metadata": {},
   "source": [
    "## again univariate analysis"
   ]
  },
  {
   "cell_type": "code",
   "execution_count": null,
   "id": "a3cdf405",
   "metadata": {},
   "outputs": [],
   "source": [
    "# Observations on Customer_age\n",
    "histogram_boxplot(data, \"Age\")\n",
    "# As per the boxplot, there are no outliers in the 'Age' variable"
   ]
  },
  {
   "cell_type": "code",
   "execution_count": null,
   "id": "d529af67",
   "metadata": {},
   "outputs": [],
   "source": [
    "# observations on NumStorePurchases\n",
    "histogram_boxplot(data, \"NumStorePurchases\")"
   ]
  },
  {
   "cell_type": "code",
   "execution_count": null,
   "id": "213791f6",
   "metadata": {},
   "outputs": [],
   "source": [
    "# There are no outliers in this variable"
   ]
  },
  {
   "cell_type": "code",
   "execution_count": null,
   "id": "740e844a",
   "metadata": {},
   "outputs": [],
   "source": [
    "# observations on NumDealsPurchases\n",
    "histogram_boxplot(data, \"NumDealsPurchases\")"
   ]
  },
  {
   "cell_type": "code",
   "execution_count": null,
   "id": "7f804840",
   "metadata": {},
   "outputs": [],
   "source": [
    "data[data[\"NumDealsPurchases\"] > 14]"
   ]
  },
  {
   "cell_type": "code",
   "execution_count": null,
   "id": "37e7affb",
   "metadata": {},
   "outputs": [],
   "source": [
    "# observations on Recency\n",
    "histogram_boxplot(data, \"Recency\")\n",
    "# recency  means the quality or state of being recent."
   ]
  },
  {
   "cell_type": "code",
   "execution_count": null,
   "id": "7619769b",
   "metadata": {},
   "outputs": [],
   "source": [
    "# There are no outliers in the 'Recency' variable"
   ]
  },
  {
   "cell_type": "code",
   "execution_count": null,
   "id": "8d67850d",
   "metadata": {},
   "outputs": [],
   "source": [
    "# observations on MntFruits\n",
    "histogram_boxplot(data, \"MntFruits\")"
   ]
  },
  {
   "cell_type": "code",
   "execution_count": null,
   "id": "8d8776f1",
   "metadata": {},
   "outputs": [],
   "source": [
    "# There are some outliers on the right end of the boxplot \n",
    "data[data[\"MntFruits\"] > 190]"
   ]
  },
  {
   "cell_type": "code",
   "execution_count": null,
   "id": "f7ad6a26",
   "metadata": {},
   "outputs": [],
   "source": [
    "# observations on MntFishProducts\n",
    "histogram_boxplot(data, \"MntFishProducts\")"
   ]
  },
  {
   "cell_type": "code",
   "execution_count": null,
   "id": "e19226ef",
   "metadata": {},
   "outputs": [],
   "source": [
    "# observations on Income\n",
    "histogram_boxplot(data, \"Income\")\n",
    "\n"
   ]
  },
  {
   "cell_type": "code",
   "execution_count": null,
   "id": "d8ba5d9c",
   "metadata": {},
   "outputs": [],
   "source": [
    "# We can see there are some outliers in the income variable.\n",
    "data[data[\"Income\"] > 200000]"
   ]
  },
  {
   "cell_type": "code",
   "execution_count": null,
   "id": "aaa99639",
   "metadata": {},
   "outputs": [],
   "source": [
    "# observations on Registration week\n",
    "labeled_barplot(data, \"Reg_week\", perc = True)"
   ]
  },
  {
   "cell_type": "code",
   "execution_count": null,
   "id": "ea6a7020",
   "metadata": {},
   "outputs": [],
   "source": [
    "# This shows that the number of registrations declines at the end of the month i.e. in the last two weeks."
   ]
  },
  {
   "cell_type": "code",
   "execution_count": null,
   "id": "af59a0b5",
   "metadata": {},
   "outputs": [],
   "source": [
    "# observations on Marital_Status\n",
    "labeled_barplot(data, \"Marital_Status\",perc = True)"
   ]
  },
  {
   "cell_type": "code",
   "execution_count": null,
   "id": "ebc32e7c",
   "metadata": {},
   "outputs": [],
   "source": [
    "# Majority of the customers are married comprising approx ~64% of total customers.\n",
    "\n"
   ]
  },
  {
   "cell_type": "code",
   "execution_count": null,
   "id": "258e3be4",
   "metadata": {},
   "outputs": [],
   "source": [
    "# observations on Education\n",
    "labeled_barplot(data, \"Education\",perc = True)"
   ]
  },
  {
   "cell_type": "code",
   "execution_count": null,
   "id": "39f2b07b",
   "metadata": {},
   "outputs": [],
   "source": [
    "# Education of approx ~50% of customers is at graduation level.\n",
    "# Very few observations i.e. ~2% for customers with basic level education"
   ]
  },
  {
   "cell_type": "code",
   "execution_count": null,
   "id": "ec10ceff",
   "metadata": {},
   "outputs": [],
   "source": [
    "# observations on Kidhome\n",
    "labeled_barplot(data, \"Kidhome\",perc = True)"
   ]
  },
  {
   "cell_type": "code",
   "execution_count": null,
   "id": "aea4623c",
   "metadata": {},
   "outputs": [],
   "source": [
    "# ~40% of customers have 1 kid and ~58% of customers have no kids at home\n",
    "# There are very few customers, approx 2%, with a number of kids greater than 1 "
   ]
  },
  {
   "cell_type": "code",
   "execution_count": null,
   "id": "8c8cc342",
   "metadata": {},
   "outputs": [],
   "source": [
    "# observations on Registration year\n",
    "labeled_barplot(data, \"Reg_year\",perc = True)"
   ]
  },
  {
   "cell_type": "code",
   "execution_count": null,
   "id": "0f147714",
   "metadata": {},
   "outputs": [],
   "source": [
    "# The number of customers registered is highest in the year 2013."
   ]
  },
  {
   "cell_type": "code",
   "execution_count": null,
   "id": "21401483",
   "metadata": {},
   "outputs": [],
   "source": [
    "# observations on Registration quarter\n",
    "labeled_barplot(data, \"Reg_quarter\",perc = True)"
   ]
  },
  {
   "cell_type": "code",
   "execution_count": null,
   "id": "01acdffd",
   "metadata": {},
   "outputs": [],
   "source": [
    "# There is no significant difference in the number of registrations for each quarter."
   ]
  },
  {
   "cell_type": "code",
   "execution_count": null,
   "id": "09956252",
   "metadata": {},
   "outputs": [],
   "source": [
    "# observations on Registration month\n",
    "labeled_barplot(data, \"Reg_month\",perc = True)\n",
    "\n"
   ]
  },
  {
   "cell_type": "markdown",
   "id": "766106d9",
   "metadata": {},
   "source": [
    "## Bivariate Analysis"
   ]
  },
  {
   "cell_type": "code",
   "execution_count": null,
   "id": "86379401",
   "metadata": {},
   "outputs": [],
   "source": [
    "# correlation check\n",
    "plt.figure(figsize=(18, 10))\n",
    "sns.heatmap(data.corr(), annot=True, vmin=-1, vmax=1, fmt=\".2f\", cmap=\"Spectral\")\n",
    "plt.show()"
   ]
  },
  {
   "cell_type": "code",
   "execution_count": null,
   "id": "7fc037e0",
   "metadata": {},
   "outputs": [],
   "source": [
    "# age and year of birth have a high negative correlation. We can drop one of them.\n",
    "# Registration month and quarter columns are highly correlated which can be expected as we extracted these columns from the same column.\n",
    "# We can drop one of the columns in a quarter or month as they are almost perfectly correlated.\n",
    "# Total amount spent is correlated with variables they are associated with and hence we can drop this column.\n",
    "# Number of purchases is positively correlated with income which can be expected as customers with higher income might spend more than customers with lower income.\n",
    "\n"
   ]
  },
  {
   "cell_type": "code",
   "execution_count": null,
   "id": "b475cba8",
   "metadata": {},
   "outputs": [],
   "source": [
    "sns.boxplot(y=\"Total_Amount_Spent\", x=\"Education\", data=data, orient=\"vertical\")"
   ]
  },
  {
   "cell_type": "code",
   "execution_count": null,
   "id": "675fac95",
   "metadata": {},
   "outputs": [],
   "source": [
    "# the amount spent increases with the increase in education level.\n",
    "# Customers with graduate-level education spend slightly more than customers with master-level education. "
   ]
  },
  {
   "cell_type": "code",
   "execution_count": null,
   "id": "01461754",
   "metadata": {},
   "outputs": [],
   "source": [
    "sns.boxplot(y=\"Total_Amount_Spent\", x=\"Marital_Status\", data=data, orient=\"vertical\")"
   ]
  },
  {
   "cell_type": "code",
   "execution_count": null,
   "id": "5969fcd5",
   "metadata": {},
   "outputs": [],
   "source": [
    "# We can see that the total amount spent is higher for widowed customers.\n",
    "# No significant difference in the amount spent by single, married or divorced customers."
   ]
  },
  {
   "cell_type": "code",
   "execution_count": null,
   "id": "2b7056bd",
   "metadata": {},
   "outputs": [],
   "source": [
    "cols = data[[\"Recency\", \"Age\", \"Income\", \"Total_Amount_Spent\"]].columns.tolist()\n",
    "plt.figure(figsize=(10, 10))\n",
    "\n",
    "for i, variable in enumerate(cols):\n",
    "    plt.subplot(3, 2, i + 1)\n",
    "    sns.boxplot(data[\"Response\"], data[variable])\n",
    "    plt.tight_layout()\n",
    "    plt.title(variable)\n",
    "plt.show()\n",
    "\n"
   ]
  },
  {
   "cell_type": "code",
   "execution_count": null,
   "id": "019c8e72",
   "metadata": {},
   "outputs": [],
   "source": [
    "#Customers with lower recency i.e. less number of days since the last purchase, are more likely to take the offer.\n",
    "#Response does not depend much on age.\n",
    "#Customers with higher income are more likely to take the offer.\n",
    "#Customers who spent more in the last 2 years are more likely to take the offer.\n",
    "\n"
   ]
  },
  {
   "cell_type": "code",
   "execution_count": null,
   "id": "02644a88",
   "metadata": {},
   "outputs": [],
   "source": [
    "# function to plot stacked bar chart\n",
    "\n",
    "\n",
    "def stacked_barplot(data, predictor, target):\n",
    "    \"\"\"\n",
    "    Print the category counts and plot a stacked bar chart\n",
    "\n",
    "    data: dataframe\n",
    "    predictor: independent variable\n",
    "    target: target variable\n",
    "    \"\"\"\n",
    "    count = data[predictor].nunique()\n",
    "    sorter = data[target].value_counts().index[-1]\n",
    "    tab1 = pd.crosstab(data[predictor], data[target], margins=True).sort_values(\n",
    "        by=sorter, ascending=False\n",
    "    )\n",
    "    print(tab1)\n",
    "    print(\"-\" * 120)\n",
    "    tab = pd.crosstab(data[predictor], data[target], normalize=\"index\").sort_values(\n",
    "        by=sorter, ascending=False\n",
    "    )\n",
    "    tab.plot(kind=\"bar\", stacked=True, figsize=(count + 1, 5))\n",
    "    plt.legend(\n",
    "        loc=\"lower left\", frameon=False,\n",
    "    )\n",
    "    plt.legend(loc=\"upper left\", bbox_to_anchor=(1, 1))\n",
    "    plt.show()"
   ]
  },
  {
   "cell_type": "code",
   "execution_count": null,
   "id": "67dcfc5f",
   "metadata": {},
   "outputs": [],
   "source": [
    "\n",
    "\n",
    "stacked_barplot(data, \"Education\", \"Response\")\n",
    "\n"
   ]
  },
  {
   "cell_type": "code",
   "execution_count": null,
   "id": "d1a16c26",
   "metadata": {},
   "outputs": [],
   "source": [
    "#  customers with higher education are more likely to take the offer. "
   ]
  },
  {
   "cell_type": "code",
   "execution_count": null,
   "id": "bc01c950",
   "metadata": {},
   "outputs": [],
   "source": [
    " stacked_barplot(data, \"Marital_Status\", \"Response\")"
   ]
  },
  {
   "cell_type": "code",
   "execution_count": null,
   "id": "3de8ef89",
   "metadata": {},
   "outputs": [],
   "source": [
    "# divorced/widow customers are more likely to take the offer.\n",
    "# Single customers are more likely to take the offer than married customers."
   ]
  },
  {
   "cell_type": "code",
   "execution_count": null,
   "id": "a1944bd9",
   "metadata": {},
   "outputs": [],
   "source": [
    "stacked_barplot(data, \"Kidhome\", \"Response\")"
   ]
  },
  {
   "cell_type": "code",
   "execution_count": null,
   "id": "79f7c12b",
   "metadata": {},
   "outputs": [],
   "source": [
    "# Customers with no teens at home are most likely to take the offer.\n",
    "# Customers with two teens are more likely to take the offer than customers with 1 teenager."
   ]
  },
  {
   "cell_type": "code",
   "execution_count": null,
   "id": "3edd983b",
   "metadata": {},
   "outputs": [],
   "source": [
    "stacked_barplot(data, \"Reg_year\", \"Response\")\n",
    "\n"
   ]
  },
  {
   "cell_type": "code",
   "execution_count": null,
   "id": "8b3ddf1d",
   "metadata": {},
   "outputs": [],
   "source": [
    "# Number of customers taking the offer is decreasing each subsequent year."
   ]
  },
  {
   "cell_type": "code",
   "execution_count": null,
   "id": "f14d4a84",
   "metadata": {},
   "outputs": [],
   "source": [
    "stacked_barplot(data, \"Reg_month\", \"Response\")"
   ]
  },
  {
   "cell_type": "code",
   "execution_count": null,
   "id": "b1d5129d",
   "metadata": {},
   "outputs": [],
   "source": [
    "plt.figure(figsize=(15, 5))\n",
    "sns.regplot(y=data.Total_Amount_Spent, x=data.Income)\n",
    "\n"
   ]
  },
  {
   "cell_type": "code",
   "execution_count": null,
   "id": "c7338f60",
   "metadata": {},
   "outputs": [],
   "source": [
    "#We can see that income and the total amount spent have a positive correlation.\n",
    "#The total amount spent is not much different for customers with income in the range of 20K to 60K but the difference is significant for customers in the range of 60K to 100K.\n",
    "\n"
   ]
  },
  {
   "cell_type": "markdown",
   "id": "fe5f4d56",
   "metadata": {},
   "source": [
    "\n",
    "## Data Preprocessing"
   ]
  },
  {
   "cell_type": "code",
   "execution_count": null,
   "id": "ee6550d6",
   "metadata": {},
   "outputs": [],
   "source": [
    "data1 = data.copy()\n",
    "data1"
   ]
  },
  {
   "cell_type": "code",
   "execution_count": null,
   "id": "2a3ffc6e",
   "metadata": {},
   "outputs": [],
   "source": [
    "# Dropping birth year and Dt_Customer columns\n",
    "data1.drop(\n",
    "    columns=[\n",
    "        \n",
    "        \"Dt_Customer\"\n",
    "    ],\n",
    "    inplace=True,\n",
    ")"
   ]
  },
  {
   "cell_type": "code",
   "execution_count": null,
   "id": "57aa90f7",
   "metadata": {},
   "outputs": [],
   "source": [
    "# Dropping birth year and Dt_Customer columns\n",
    "data1.drop(\n",
    "    columns=[\n",
    "        \n",
    "        \"Year_Birth\"\n",
    "    ],\n",
    "    inplace=True,\n",
    ")"
   ]
  },
  {
   "cell_type": "code",
   "execution_count": null,
   "id": "f7c98287",
   "metadata": {},
   "outputs": [],
   "source": [
    "# Dropping birth year and Dt_Customer columns\n",
    "data1.drop(\n",
    "    columns=[\n",
    "        \n",
    "        \"Reg_quarter\"\n",
    "    ],\n",
    "    inplace=True,\n",
    ")"
   ]
  },
  {
   "cell_type": "code",
   "execution_count": null,
   "id": "972ff63e",
   "metadata": {},
   "outputs": [],
   "source": [
    "# Dropping birth year and Dt_Customer columns\n",
    "data1.drop(\n",
    "    columns=[\n",
    "        \n",
    "        \"Total_Amount_Spent\"\n",
    "    ],\n",
    "    inplace=True,\n",
    ")"
   ]
  },
  {
   "cell_type": "code",
   "execution_count": null,
   "id": "0530dfed",
   "metadata": {},
   "outputs": [],
   "source": [
    "data1"
   ]
  },
  {
   "cell_type": "code",
   "execution_count": null,
   "id": "73fdbd1d",
   "metadata": {},
   "outputs": [],
   "source": [
    "\n",
    "\n",
    "# Separating target variable and other variables\n",
    "X = data1.drop(columns=\"Response\")\n",
    "X = pd.get_dummies(X)\n",
    "\n",
    "Y = data1[\"Response\"]\n",
    "\n"
   ]
  },
  {
   "cell_type": "code",
   "execution_count": null,
   "id": "11eedfee",
   "metadata": {},
   "outputs": [],
   "source": [
    "from sklearn.model_selection import train_test_split\n",
    "\n",
    "# Splitting data into training, validation and test set:\n",
    "# first we split data into 2 parts, say temporary and test\n",
    "\n",
    "X_temp, X_test, y_temp, y_test = train_test_split(X, Y, test_size=0.2, random_state=1, stratify=Y)\n",
    "\n",
    "# then we split the temporary set into train and validation\n",
    "\n",
    "X_train, X_val, y_train, y_val = train_test_split(X_temp, y_temp, test_size=0.25, random_state=1, stratify=y_temp)\n",
    "\n",
    "\n",
    "print(X_train.shape, X_val.shape, X_test.shape)\n",
    "\n"
   ]
  },
  {
   "cell_type": "markdown",
   "id": "719d2554",
   "metadata": {},
   "source": [
    "## Missing-Value Treatment"
   ]
  },
  {
   "cell_type": "code",
   "execution_count": null,
   "id": "0ae67615",
   "metadata": {},
   "outputs": [],
   "source": [
    "# To be used for missing value imputation\n",
    "from sklearn.impute import SimpleImputer\n",
    "\n",
    "\n",
    "imputer = SimpleImputer(strategy=\"median\")\n",
    "\n"
   ]
  },
  {
   "cell_type": "code",
   "execution_count": null,
   "id": "7bf97582",
   "metadata": {},
   "outputs": [],
   "source": [
    "\n",
    "\n",
    "# Fit and transform the train data\n",
    "X_train = pd.DataFrame(imputer.fit_transform(X_train), columns=X_train.columns)\n",
    "\n",
    "# Transform the validation data\n",
    "X_val = pd.DataFrame(imputer.transform(X_val), columns=X_train.columns)\n",
    "\n",
    "# Transform the test data\n",
    "X_test = pd.DataFrame(imputer.transform(X_test), columns=X_train.columns)\n",
    "\n"
   ]
  },
  {
   "cell_type": "code",
   "execution_count": 108,
   "id": "6a38a2e0",
   "metadata": {},
   "outputs": [
    {
     "name": "stdout",
     "output_type": "stream",
     "text": [
      "Income                     0\n",
      "Kidhome                    0\n",
      "Teenhome                   0\n",
      "Recency                    0\n",
      "MntWines                   0\n",
      "MntFruits                  0\n",
      "MntMeatProducts            0\n",
      "MntFishProducts            0\n",
      "MntSweetProducts           0\n",
      "MntGoldProds               0\n",
      "NumDealsPurchases          0\n",
      "NumWebPurchases            0\n",
      "NumCatalogPurchases        0\n",
      "NumStorePurchases          0\n",
      "NumWebVisitsMonth          0\n",
      "Complain                   0\n",
      "Age                        0\n",
      "Reg_year                   0\n",
      "Reg_month                  0\n",
      "Reg_week                   0\n",
      "Education_Basic            0\n",
      "Education_Graduation       0\n",
      "Education_Master           0\n",
      "Education_PhD              0\n",
      "Marital_Status_Divorced    0\n",
      "Marital_Status_Married     0\n",
      "Marital_Status_Single      0\n",
      "Marital_Status_Widow       0\n",
      "dtype: int64\n",
      "------------------------------\n",
      "Income                     0\n",
      "Kidhome                    0\n",
      "Teenhome                   0\n",
      "Recency                    0\n",
      "MntWines                   0\n",
      "MntFruits                  0\n",
      "MntMeatProducts            0\n",
      "MntFishProducts            0\n",
      "MntSweetProducts           0\n",
      "MntGoldProds               0\n",
      "NumDealsPurchases          0\n",
      "NumWebPurchases            0\n",
      "NumCatalogPurchases        0\n",
      "NumStorePurchases          0\n",
      "NumWebVisitsMonth          0\n",
      "Complain                   0\n",
      "Age                        0\n",
      "Reg_year                   0\n",
      "Reg_month                  0\n",
      "Reg_week                   0\n",
      "Education_Basic            0\n",
      "Education_Graduation       0\n",
      "Education_Master           0\n",
      "Education_PhD              0\n",
      "Marital_Status_Divorced    0\n",
      "Marital_Status_Married     0\n",
      "Marital_Status_Single      0\n",
      "Marital_Status_Widow       0\n",
      "dtype: int64\n",
      "------------------------------\n",
      "Income                     0\n",
      "Kidhome                    0\n",
      "Teenhome                   0\n",
      "Recency                    0\n",
      "MntWines                   0\n",
      "MntFruits                  0\n",
      "MntMeatProducts            0\n",
      "MntFishProducts            0\n",
      "MntSweetProducts           0\n",
      "MntGoldProds               0\n",
      "NumDealsPurchases          0\n",
      "NumWebPurchases            0\n",
      "NumCatalogPurchases        0\n",
      "NumStorePurchases          0\n",
      "NumWebVisitsMonth          0\n",
      "Complain                   0\n",
      "Age                        0\n",
      "Reg_year                   0\n",
      "Reg_month                  0\n",
      "Reg_week                   0\n",
      "Education_Basic            0\n",
      "Education_Graduation       0\n",
      "Education_Master           0\n",
      "Education_PhD              0\n",
      "Marital_Status_Divorced    0\n",
      "Marital_Status_Married     0\n",
      "Marital_Status_Single      0\n",
      "Marital_Status_Widow       0\n",
      "dtype: int64\n"
     ]
    }
   ],
   "source": [
    "\n",
    "\n",
    "# Checking that no column has missing values in train or test sets\n",
    "print(X_train.isna().sum())\n",
    "print(\"-\" * 30)\n",
    "print(X_val.isna().sum())\n",
    "print(\"-\" * 30)\n",
    "print(X_test.isna().sum())\n",
    "\n"
   ]
  },
  {
   "cell_type": "markdown",
   "id": "a53ebbb4",
   "metadata": {},
   "source": [
    "## model Building"
   ]
  },
  {
   "cell_type": "code",
   "execution_count": 109,
   "id": "a0b2dce2",
   "metadata": {},
   "outputs": [],
   "source": [
    "# To get different metric scores, and split data\n",
    "from sklearn import metrics\n",
    "\n",
    "scorer = metrics.make_scorer(metrics.recall_score)\n",
    "\n"
   ]
  },
  {
   "cell_type": "code",
   "execution_count": 110,
   "id": "f0c60a8f",
   "metadata": {},
   "outputs": [],
   "source": [
    "\n",
    "# To help with model building\n",
    "from sklearn.linear_model import LogisticRegression\n",
    "from sklearn.tree import DecisionTreeClassifier\n",
    "from sklearn.ensemble import (\n",
    "    AdaBoostClassifier,\n",
    "    GradientBoostingClassifier,\n",
    "    RandomForestClassifier,\n",
    "    BaggingClassifier,\n",
    ")\n",
    "# To get different metric scores, and split data\n",
    "from sklearn import metrics\n",
    "from sklearn.model_selection import train_test_split, StratifiedKFold, cross_val_score\n",
    "from sklearn.metrics import (\n",
    "    f1_score,\n",
    "    accuracy_score,\n",
    "    recall_score,\n",
    "    precision_score,\n",
    "    confusion_matrix,\n",
    "    roc_auc_score,\n",
    "    plot_confusion_matrix,\n",
    ")\n",
    "# To be used for data scaling and one hot encoding\n",
    "from sklearn.preprocessing import StandardScaler, MinMaxScaler, OneHotEncoder\n",
    "\n",
    "# To be used for tuning the model\n",
    "from sklearn.model_selection import GridSearchCV, RandomizedSearchCV\n",
    "\n",
    "# To be used for creating pipelines and personalizing them\n",
    "from sklearn.pipeline import Pipeline\n",
    "from sklearn.compose import ColumnTransformer"
   ]
  },
  {
   "cell_type": "code",
   "execution_count": 111,
   "id": "b9be7bc5",
   "metadata": {},
   "outputs": [
    {
     "name": "stdout",
     "output_type": "stream",
     "text": [
      "Best Parameters:{'base_estimator': DecisionTreeClassifier(max_depth=2, random_state=1), 'learning_rate': 1, 'n_estimators': 30} \n",
      "Score: 0.395\n"
     ]
    }
   ],
   "source": [
    "\n",
    "# defining model\n",
    "model = AdaBoostClassifier(random_state=1)\n",
    "\n",
    "# Parameter grid to pass in GridSearchCV\n",
    "\n",
    "param_grid = {\n",
    "    \"n_estimators\": np.arange(10, 110, 10),\n",
    "    \"learning_rate\": [0.1, 0.01, 0.2, 0.05, 1],\n",
    "    \"base_estimator\": [\n",
    "        DecisionTreeClassifier(max_depth=1, random_state=1),\n",
    "        DecisionTreeClassifier(max_depth=2, random_state=1),\n",
    "        DecisionTreeClassifier(max_depth=3, random_state=1),\n",
    "    ],\n",
    "}\n",
    "\n",
    "# Type of scoring used to compare parameter combinations\n",
    "scorer = metrics.make_scorer(metrics.recall_score)\n",
    "\n",
    "# Calling GridSearchCV\n",
    "grid_cv = GridSearchCV(estimator=model, param_grid=param_grid, scoring=scorer, cv=5, n_jobs = -1)\n",
    "\n",
    "# Fitting parameters in GridSearchCV\n",
    "grid_cv.fit(X_train, y_train)\n",
    "\n",
    "print(\n",
    "    \"Best Parameters:{} \\nScore: {}\".format(grid_cv.best_params_, grid_cv.best_score_)\n",
    ")"
   ]
  },
  {
   "cell_type": "code",
   "execution_count": 112,
   "id": "79318acd",
   "metadata": {},
   "outputs": [
    {
     "data": {
      "text/plain": [
       "AdaBoostClassifier(base_estimator=DecisionTreeClassifier(max_depth=2,\n",
       "                                                         random_state=1),\n",
       "                   learning_rate=1, n_estimators=30, random_state=1)"
      ]
     },
     "execution_count": 112,
     "metadata": {},
     "output_type": "execute_result"
    }
   ],
   "source": [
    "\n",
    "\n",
    "# building model with best parameters\n",
    "adb_tuned1 = AdaBoostClassifier(\n",
    "    n_estimators=30,\n",
    "    learning_rate=1,\n",
    "    random_state=1,\n",
    "    base_estimator=DecisionTreeClassifier(max_depth=2, random_state=1),\n",
    ")\n",
    "\n",
    "# Fit the model on training data\n",
    "adb_tuned1.fit(X_train, y_train)\n",
    "\n"
   ]
  },
  {
   "cell_type": "code",
   "execution_count": 113,
   "id": "e57443bd",
   "metadata": {},
   "outputs": [
    {
     "ename": "NameError",
     "evalue": "name 'model_performance_classification_sklearn' is not defined",
     "output_type": "error",
     "traceback": [
      "\u001b[0;31m---------------------------------------------------------------------------\u001b[0m",
      "\u001b[0;31mNameError\u001b[0m                                 Traceback (most recent call last)",
      "Input \u001b[0;32mIn [113]\u001b[0m, in \u001b[0;36m<cell line: 2>\u001b[0;34m()\u001b[0m\n\u001b[1;32m      1\u001b[0m \u001b[38;5;66;03m# Calculating different metrics on train set\u001b[39;00m\n\u001b[0;32m----> 2\u001b[0m Adaboost_grid_train \u001b[38;5;241m=\u001b[39m \u001b[43mmodel_performance_classification_sklearn\u001b[49m(\n\u001b[1;32m      3\u001b[0m     adb_tuned1, X_train, y_train\n\u001b[1;32m      4\u001b[0m )\n\u001b[1;32m      5\u001b[0m \u001b[38;5;28mprint\u001b[39m(\u001b[38;5;124m\"\u001b[39m\u001b[38;5;124mTraining performance:\u001b[39m\u001b[38;5;124m\"\u001b[39m)\n\u001b[1;32m      6\u001b[0m Adaboost_grid_train\n",
      "\u001b[0;31mNameError\u001b[0m: name 'model_performance_classification_sklearn' is not defined"
     ]
    }
   ],
   "source": [
    "# Calculating different metrics on train set\n",
    "Adaboost_grid_train = model_performance_classification_sklearn(\n",
    "    adb_tuned1, X_train, y_train\n",
    ")\n",
    "print(\"Training performance:\")\n",
    "Adaboost_grid_train"
   ]
  },
  {
   "cell_type": "code",
   "execution_count": null,
   "id": "a351363d",
   "metadata": {},
   "outputs": [],
   "source": [
    "# Calculating different metrics on train set\n",
    "Adaboost_grid_train = model_performance_classification_sklearn(\n",
    "    adb_tuned1, X_train, y_train\n",
    ")\n",
    "print(\"Training performance:\")\n",
    "Adaboost_grid_train"
   ]
  },
  {
   "cell_type": "code",
   "execution_count": null,
   "id": "2c8405d4",
   "metadata": {},
   "outputs": [],
   "source": [
    "\n",
    "\n",
    "# Calculating different metrics on validation set\n",
    "Adaboost_grid_val = model_performance_classification_sklearn(adb_tuned1, X_val, y_val)\n",
    "print(\"Validation performance:\")\n",
    "Adaboost_grid_val\n",
    "\n"
   ]
  },
  {
   "cell_type": "code",
   "execution_count": null,
   "id": "65779c87",
   "metadata": {},
   "outputs": [],
   "source": [
    "\n",
    "\n",
    "# creating confusion matrix\n",
    "confusion_matrix_sklearn(adb_tuned1, X_val, y_val)\n",
    "\n"
   ]
  },
  {
   "cell_type": "code",
   "execution_count": null,
   "id": "56d3b69c",
   "metadata": {},
   "outputs": [],
   "source": []
  },
  {
   "cell_type": "code",
   "execution_count": null,
   "id": "69f259d1",
   "metadata": {},
   "outputs": [],
   "source": []
  }
 ],
 "metadata": {
  "kernelspec": {
   "display_name": "Python 3 (ipykernel)",
   "language": "python",
   "name": "python3"
  },
  "language_info": {
   "codemirror_mode": {
    "name": "ipython",
    "version": 3
   },
   "file_extension": ".py",
   "mimetype": "text/x-python",
   "name": "python",
   "nbconvert_exporter": "python",
   "pygments_lexer": "ipython3",
   "version": "3.9.12"
  }
 },
 "nbformat": 4,
 "nbformat_minor": 5
}
